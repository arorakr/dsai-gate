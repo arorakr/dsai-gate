{
  "cells": [
    {
      "cell_type": "markdown",
      "metadata": {
        "id": "view-in-github",
        "colab_type": "text"
      },
      "source": [
        "<a href=\"https://colab.research.google.com/github/arorakr/dsai-gate/blob/main/Copy_of_Python_Programming_Problems_Week4_Intermediate.ipynb\" target=\"_parent\"><img src=\"https://colab.research.google.com/assets/colab-badge.svg\" alt=\"Open In Colab\"/></a>"
      ]
    },
    {
      "cell_type": "markdown",
      "metadata": {
        "id": "Nc00CerJ_nRe"
      },
      "source": [
        "### Problem 1: Find Second Largest Element in a List\n",
        "\n",
        "**Problem Statement:**\n",
        "Write a function that returns the second largest element from a list of integers. You may assume the list has at least two unique elements.\n",
        "\n",
        "**Examples/Test Cases:**\n",
        "- Input: [4, 1, 7, 3, 9] → Output: 7\n",
        "- Input: [10, 5, 20, 20, 5] → Output: 10\n",
        "- Input: [1, 2] → Output: 1"
      ]
    },
    {
      "cell_type": "code",
      "execution_count": null,
      "metadata": {
        "id": "7dUJvtln_nRg"
      },
      "outputs": [],
      "source": [
        "# Write your solution here\n"
      ]
    },
    {
      "cell_type": "markdown",
      "metadata": {
        "id": "yyb1S0SW_nRh"
      },
      "source": [
        "### Problem 2: Rotate List Elements\n",
        "\n",
        "**Problem Statement:**\n",
        "Write a function that rotates the elements of a list to the right by k steps.\n",
        "\n",
        "**Examples/Test Cases:**\n",
        "- Input: [1,2,3,4,5], k=2 → Output: [4,5,1,2,3]\n",
        "- Input: [10,20,30], k=1 → Output: [30,10,20]\n",
        "- Input: ['a','b','c','d'], k=4 → Output: ['a','b','c','d']"
      ]
    },
    {
      "cell_type": "code",
      "execution_count": null,
      "metadata": {
        "id": "PDRQaqYs_nRh"
      },
      "outputs": [],
      "source": [
        "# Write your solution here\n"
      ]
    },
    {
      "cell_type": "markdown",
      "metadata": {
        "id": "S_aOr4q3_nRi"
      },
      "source": [
        "### Problem 3: Count Frequencies as List of Tuples\n",
        "\n",
        "**Problem Statement:**\n",
        "Write a function that takes a tuple of integers and returns a list of (element, frequency) tuples, sorted by element.\n",
        "\n",
        "**Examples/Test Cases:**\n",
        "- Input: (1,2,2,3) → Output: [(1,1), (2,2), (3,1)]\n",
        "- Input: () → Output: []\n",
        "- Input: ('a','a','b') → Output: [('a',2), ('b',1)]"
      ]
    },
    {
      "cell_type": "code",
      "execution_count": null,
      "metadata": {
        "id": "JYCJOpXY_nRi"
      },
      "outputs": [],
      "source": [
        "# Write your solution here\n"
      ]
    },
    {
      "cell_type": "markdown",
      "metadata": {
        "id": "beWS7iGG_nRi"
      },
      "source": [
        "### Problem 4: Extract Unique Characters from Strings using Sets\n",
        "\n",
        "**Problem Statement:**\n",
        "Write a function that takes a list of strings and returns a set of unique characters across all strings.\n",
        "\n",
        "**Examples/Test Cases:**\n",
        "- Input: ['abc', 'bcd'] → Output: {'a','b','c','d'}\n",
        "- Input: [] → Output: set()\n",
        "- Input: ['aaa', 'bbb'] → Output: {'a', 'b'}"
      ]
    },
    {
      "cell_type": "code",
      "execution_count": null,
      "metadata": {
        "id": "FHuEaDsd_nRi"
      },
      "outputs": [],
      "source": [
        "# Write your solution here\n"
      ]
    },
    {
      "cell_type": "markdown",
      "metadata": {
        "id": "5YeNjZms_nRj"
      },
      "source": [
        "### Problem 5: Intersection of Multiple Sets\n",
        "\n",
        "**Problem Statement:**\n",
        "Write a function that returns the intersection of all sets in a list. If the list is empty, return an empty set.\n",
        "\n",
        "**Examples/Test Cases:**\n",
        "- Input: [{1,2,3}, {2,3}, {3,2,4}] → Output: {2,3}\n",
        "- Input: [{1,2}, {3,4}] → Output: set()\n",
        "- Input: [] → Output: set()"
      ]
    },
    {
      "cell_type": "code",
      "execution_count": null,
      "metadata": {
        "id": "8eus3E-m_nRj"
      },
      "outputs": [],
      "source": [
        "# Write your solution here\n"
      ]
    },
    {
      "cell_type": "markdown",
      "metadata": {
        "id": "DGHDvL8J_nRj"
      },
      "source": [
        "### Problem 6: Deep Slice of a List\n",
        "\n",
        "**Problem Statement:**\n",
        "Write a function that takes a list and returns every second element from the reversed list (starting from the last element).\n",
        "\n",
        "**Examples/Test Cases:**\n",
        "- Input: [1,2,3,4,5] → Output: [5,3,1]\n",
        "- Input: [10,20,30,40] → Output: [40,20]\n",
        "- Input: [7] → Output: [7]"
      ]
    },
    {
      "cell_type": "code",
      "execution_count": null,
      "metadata": {
        "id": "mjpPvHo3_nRj"
      },
      "outputs": [],
      "source": [
        "# Write your solution here\n"
      ]
    },
    {
      "cell_type": "markdown",
      "metadata": {
        "id": "cypCVF2j_nRk"
      },
      "source": [
        "### Problem 7: Modify Nested List\n",
        "\n",
        "**Problem Statement:**\n",
        "Write a function that updates the first element of each sub-list to 0.\n",
        "\n",
        "**Examples/Test Cases:**\n",
        "- Input: [[1,2],[3,4]] → Output: [[0,2],[0,4]]\n",
        "- Input: [[5],[6,7]] → Output: [[0],[0,7]]\n",
        "- Input: [] → Output: []"
      ]
    },
    {
      "cell_type": "code",
      "execution_count": null,
      "metadata": {
        "id": "SiqvuJsd_nRk"
      },
      "outputs": [],
      "source": [
        "# Write your solution here\n"
      ]
    },
    {
      "cell_type": "markdown",
      "metadata": {
        "id": "Q0YnjpYx_nRk"
      },
      "source": [
        "### Problem 8: Find Pair with Given Sum in List\n",
        "\n",
        "**Problem Statement:**\n",
        "Write a function that returns all unique pairs from a list that sum up to a target value. Each pair should be in sorted order.\n",
        "\n",
        "**Examples/Test Cases:**\n",
        "- Input: [1,2,3,4,5], target=5 → Output: [(1,4),(2,3)]\n",
        "- Input: [0,2,2,3], target=4 → Output: [(1,3)]\n",
        "- Input: [1,1,1], target=2 → Output: [(1,1)]"
      ]
    },
    {
      "cell_type": "code",
      "execution_count": null,
      "metadata": {
        "id": "X1kQoj1-_nRk"
      },
      "outputs": [],
      "source": [
        "# Write your solution here\n"
      ]
    },
    {
      "cell_type": "markdown",
      "metadata": {
        "id": "uzRhE9A3_nRk"
      },
      "source": [
        "### Problem 9: Increment Tuple Values\n",
        "\n",
        "**Problem Statement:**\n",
        "Write a function that takes a tuple and returns a new tuple with all values incremented by 1 (without modifying the original).\n",
        "\n",
        "**Examples/Test Cases:**\n",
        "- Input: (1,2,3) → Output: (2,3,4)\n",
        "- Input: () → Output: ()\n",
        "- Input: (-1,) → Output: (0,)"
      ]
    },
    {
      "cell_type": "code",
      "execution_count": null,
      "metadata": {
        "id": "HpV2I5n0_nRk"
      },
      "outputs": [],
      "source": [
        "# Write your solution here\n"
      ]
    },
    {
      "cell_type": "markdown",
      "metadata": {
        "id": "8cDhR_gH_nRl"
      },
      "source": [
        "### Problem 10: Flatten a Nested List\n",
        "\n",
        "**Problem Statement:**\n",
        "Write a function to flatten a 2D list (a list of lists) into a single list.\n",
        "\n",
        "**Examples/Test Cases:**\n",
        "- Input: [[1,2],[3,4]] → Output: [1,2,3,4]\n",
        "- Input: [[],[1]] → Output: [1]\n",
        "- Input: [] → Output: []"
      ]
    },
    {
      "cell_type": "code",
      "execution_count": null,
      "metadata": {
        "id": "EObVe1b4_nRl"
      },
      "outputs": [],
      "source": [
        "# Write your solution here\n"
      ]
    },
    {
      "cell_type": "markdown",
      "metadata": {
        "id": "x_9zKNo8_nRl"
      },
      "source": [
        "### Problem 11: All Permutations of a Tuple\n",
        "\n",
        "**Problem Statement:**\n",
        "Write a function that returns all permutations of a given tuple as a list of tuples.\n",
        "\n",
        "**Examples/Test Cases:**\n",
        "- Input: (1,2) → Output: [(1,2),(2,1)]\n",
        "- Input: ('a','b') → Output: [('a','b'),('b','a')]\n",
        "- Input: (5,) → Output: [(5,)]"
      ]
    },
    {
      "cell_type": "code",
      "execution_count": null,
      "metadata": {
        "id": "TzK3UPxf_nRl"
      },
      "outputs": [],
      "source": [
        "# Write your solution here\n"
      ]
    },
    {
      "cell_type": "markdown",
      "metadata": {
        "id": "De08JF4I_nRl"
      },
      "source": [
        "### Problem 12: Merge Two Lists Alternately\n",
        "\n",
        "**Problem Statement:**\n",
        "Write a function to merge two lists element-wise (alternating elements).\n",
        "\n",
        "**Examples/Test Cases:**\n",
        "- Input: [1,2], [3,4] → Output: [1,3,2,4]\n",
        "- Input: ['a'], ['b','c'] → Output: ['a','b','c']\n",
        "- Input: [], [1] → Output: [1]"
      ]
    },
    {
      "cell_type": "code",
      "execution_count": null,
      "metadata": {
        "id": "7i6xHjrw_nRl"
      },
      "outputs": [],
      "source": [
        "# Write your solution here\n"
      ]
    },
    {
      "cell_type": "markdown",
      "metadata": {
        "id": "O59EB4gM_nRm"
      },
      "source": [
        "### Problem 13: Remove Elements Greater Than Average\n",
        "\n",
        "**Problem Statement:**\n",
        "Write a function that removes all elements from a list that are greater than the average of the list.\n",
        "\n",
        "**Examples/Test Cases:**\n",
        "- Input: [1,2,3,4,5] → Output: [1,2,3]\n",
        "- Input: [10,10,10] → Output: [10,10,10]\n",
        "- Input: [4,5] → Output: [4]"
      ]
    },
    {
      "cell_type": "code",
      "execution_count": null,
      "metadata": {
        "id": "736PUQJJ_nRm"
      },
      "outputs": [],
      "source": [
        "# Write your solution here\n"
      ]
    },
    {
      "cell_type": "markdown",
      "metadata": {
        "id": "foCPzCvY_nRm"
      },
      "source": [
        "### Problem 14: Set Symmetric Difference\n",
        "\n",
        "**Problem Statement:**\n",
        "Write a function that returns the symmetric difference of two sets (elements in either but not both).\n",
        "\n",
        "**Examples/Test Cases:**\n",
        "- Input: {1,2,3}, {3,4} → Output: {1,2,4}\n",
        "- Input: {}, {} → Output: {}\n",
        "- Input: {5}, {5} → Output: {}"
      ]
    },
    {
      "cell_type": "code",
      "execution_count": null,
      "metadata": {
        "id": "28ePVZEA_nRm"
      },
      "outputs": [],
      "source": [
        "# Write your solution here\n"
      ]
    },
    {
      "cell_type": "markdown",
      "metadata": {
        "id": "Z0USEpDw_nRm"
      },
      "source": [
        "### Problem 15: Index of All Occurrences in List\n",
        "\n",
        "**Problem Statement:**\n",
        "Return all indices of a given element in a list.\n",
        "\n",
        "**Examples/Test Cases:**\n",
        "- Input: [1,2,1,3], element=1 → Output: [0,2]\n",
        "- Input: ['a','b','a'], element='a' → Output: [0,2]\n",
        "- Input: [], element=1 → Output: []"
      ]
    },
    {
      "cell_type": "code",
      "execution_count": null,
      "metadata": {
        "id": "dGeOCIAl_nRm"
      },
      "outputs": [],
      "source": [
        "# Write your solution here\n"
      ]
    }
  ],
  "metadata": {
    "kernelspec": {
      "display_name": "Python 3",
      "language": "python",
      "name": "python3"
    },
    "language_info": {
      "name": "python",
      "version": "3.9.16"
    },
    "colab": {
      "provenance": [],
      "include_colab_link": true
    }
  },
  "nbformat": 4,
  "nbformat_minor": 0
}